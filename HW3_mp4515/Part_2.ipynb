{
 "cells": [
  {
   "cell_type": "code",
   "execution_count": null,
   "metadata": {},
   "outputs": [],
   "source": []
  },
  {
   "cell_type": "code",
   "execution_count": 3,
   "metadata": {},
   "outputs": [],
   "source": [
    "from __future__ import print_function \n",
    "import pandas as pd"
   ]
  },
  {
   "cell_type": "markdown",
   "metadata": {},
   "source": [
    "# Find data on the portal"
   ]
  },
  {
   "cell_type": "markdown",
   "metadata": {},
   "source": [
    " using DHS data on shelter population\n",
    " obtained with the following steps from the website \n",
    " \n",
    " https://opendata.cityofnewyork.us/ -> Data \n",
    " \n",
    " https://opendata.cityofnewyork.us/data/ -> Department of Homeless Services (DHS) (in data by agency)\n",
    " \n",
    " https://data.cityofnewyork.us/browse?Dataset-Information_Agency=Department+of+Homeless+Services+%28DHS%29\n",
    " -> DHS daily report\n",
    " \n",
    " https://data.cityofnewyork.us/Social-Services/DHS-Daily-Report/k46n-sa2m -> View Data \n",
    " \n",
    " https://data.cityofnewyork.us/Social-Services/DHS-Daily-Report/k46n-sa2m/data -> Export\n",
    " \n",
    " this gives me various links. I copy and paste below the CSV link"
   ]
  },
  {
   "cell_type": "markdown",
   "metadata": {},
   "source": [
    "# solution 1: download from the portal \n"
   ]
  },
  {
   "cell_type": "code",
   "execution_count": 4,
   "metadata": {},
   "outputs": [
    {
     "name": "stdout",
     "output_type": "stream",
     "text": [
      "  % Total    % Received % Xferd  Average Speed   Time    Time     Time  Current\n",
      "                                 Dload  Upload   Total   Spent    Left  Speed\n",
      "100 70870    0 70870    0     0   248k      0 --:--:-- --:--:-- --:--:--  248k\n"
     ]
    }
   ],
   "source": [
    "!curl https://data.cityofnewyork.us/api/views/y43c-5n92/rows.csv?accessType=DOWNLOAD > test_1.csv"
   ]
  },
  {
   "cell_type": "code",
   "execution_count": 5,
   "metadata": {},
   "outputs": [
    {
     "name": "stdout",
     "output_type": "stream",
     "text": [
      "PUIdata /nfshome/mp4515/PUIdata\n"
     ]
    }
   ],
   "source": [
    "# ove the downloaded data to PUI data\n",
    "import os\n",
    "print(\"PUIdata\", os.getenv(\"PUIDATA\"))"
   ]
  },
  {
   "cell_type": "code",
   "execution_count": 6,
   "metadata": {},
   "outputs": [
    {
     "name": "stdout",
     "output_type": "stream",
     "text": [
      "PUIdata /nfshome/mp4515/PUIdata\n"
     ]
    }
   ],
   "source": [
    "#create the env variable if missing\n",
    "os.environ[\"PUIDATA\"] = \"%s/PUIdata\"%os.getenv(\"HOME\")\n",
    "\n",
    "print(\"PUIdata\", os.getenv(\"PUIDATA\"))"
   ]
  },
  {
   "cell_type": "code",
   "execution_count": 7,
   "metadata": {},
   "outputs": [],
   "source": [
    "# move the data\n",
    "!mv test_1.csv $PUIDATA"
   ]
  },
  {
   "cell_type": "code",
   "execution_count": 8,
   "metadata": {},
   "outputs": [
    {
     "name": "stdout",
     "output_type": "stream",
     "text": [
      "myfirstfile.txt  README.md  test_1.csv\ttest.csv\r\n"
     ]
    }
   ],
   "source": [
    "#test if the data is there\n",
    "!ls $PUIDATA"
   ]
  },
  {
   "cell_type": "markdown",
   "metadata": {},
   "source": [
    "## read in the data with pandas"
   ]
  },
  {
   "cell_type": "code",
   "execution_count": 9,
   "metadata": {},
   "outputs": [],
   "source": [
    "#read in the data with pandas\n",
    "WQ = pd.read_csv(\"%s/test_1.csv\"%os.getenv(\"PUIDATA\"))"
   ]
  },
  {
   "cell_type": "code",
   "execution_count": 10,
   "metadata": {},
   "outputs": [
    {
     "data": {
      "text/html": [
       "<div>\n",
       "<table border=\"1\" class=\"dataframe\">\n",
       "  <thead>\n",
       "    <tr style=\"text-align: right;\">\n",
       "      <th></th>\n",
       "      <th>Site</th>\n",
       "      <th>Date</th>\n",
       "      <th>Turbidity(NTU) at 12AM</th>\n",
       "      <th>Turbidity(NTU) at 4AM</th>\n",
       "      <th>Turbidity(NTU) at 8AM</th>\n",
       "      <th>Turbidity(NTU) at 12PM</th>\n",
       "      <th>Turbidity(NTU) at 4PM</th>\n",
       "      <th>Turbidity(NTU) at 8PM</th>\n",
       "      <th>Average 24hrTurbidity(NTU)</th>\n",
       "      <th>Coliform, Fecal(fc/100mL)</th>\n",
       "    </tr>\n",
       "  </thead>\n",
       "  <tbody>\n",
       "    <tr>\n",
       "      <th>0</th>\n",
       "      <td>DEL18DT</td>\n",
       "      <td>05/10/2015</td>\n",
       "      <td>NaN</td>\n",
       "      <td>1.0</td>\n",
       "      <td>0.95</td>\n",
       "      <td>0.95</td>\n",
       "      <td>1.00</td>\n",
       "      <td>1.00</td>\n",
       "      <td>0.98</td>\n",
       "      <td>&lt;1</td>\n",
       "    </tr>\n",
       "    <tr>\n",
       "      <th>1</th>\n",
       "      <td>DEL18DT</td>\n",
       "      <td>05/11/2015</td>\n",
       "      <td>1.0</td>\n",
       "      <td>1.1</td>\n",
       "      <td>0.95</td>\n",
       "      <td>1.00</td>\n",
       "      <td>1.10</td>\n",
       "      <td>1.10</td>\n",
       "      <td>1.04</td>\n",
       "      <td>&lt;1</td>\n",
       "    </tr>\n",
       "    <tr>\n",
       "      <th>2</th>\n",
       "      <td>DEL18DT</td>\n",
       "      <td>05/12/2015</td>\n",
       "      <td>1.1</td>\n",
       "      <td>1.1</td>\n",
       "      <td>1.10</td>\n",
       "      <td>0.90</td>\n",
       "      <td>0.95</td>\n",
       "      <td>1.10</td>\n",
       "      <td>1.04</td>\n",
       "      <td>1</td>\n",
       "    </tr>\n",
       "    <tr>\n",
       "      <th>3</th>\n",
       "      <td>DEL18DT</td>\n",
       "      <td>05/13/2015</td>\n",
       "      <td>0.9</td>\n",
       "      <td>1.1</td>\n",
       "      <td>0.95</td>\n",
       "      <td>0.90</td>\n",
       "      <td>1.00</td>\n",
       "      <td>0.95</td>\n",
       "      <td>0.97</td>\n",
       "      <td>1</td>\n",
       "    </tr>\n",
       "    <tr>\n",
       "      <th>4</th>\n",
       "      <td>DEL18DT</td>\n",
       "      <td>05/14/2015</td>\n",
       "      <td>1.1</td>\n",
       "      <td>1.0</td>\n",
       "      <td>1.00</td>\n",
       "      <td>0.95</td>\n",
       "      <td>0.95</td>\n",
       "      <td>0.95</td>\n",
       "      <td>0.99</td>\n",
       "      <td>&lt;1</td>\n",
       "    </tr>\n",
       "    <tr>\n",
       "      <th>5</th>\n",
       "      <td>DEL18DT</td>\n",
       "      <td>05/15/2015</td>\n",
       "      <td>1.0</td>\n",
       "      <td>1.0</td>\n",
       "      <td>1.00</td>\n",
       "      <td>0.90</td>\n",
       "      <td>0.95</td>\n",
       "      <td>1.00</td>\n",
       "      <td>0.98</td>\n",
       "      <td>&lt;1</td>\n",
       "    </tr>\n",
       "    <tr>\n",
       "      <th>6</th>\n",
       "      <td>DEL18DT</td>\n",
       "      <td>05/16/2015</td>\n",
       "      <td>1.1</td>\n",
       "      <td>1.0</td>\n",
       "      <td>1.00</td>\n",
       "      <td>0.75</td>\n",
       "      <td>0.85</td>\n",
       "      <td>0.95</td>\n",
       "      <td>0.94</td>\n",
       "      <td>&lt;1</td>\n",
       "    </tr>\n",
       "    <tr>\n",
       "      <th>7</th>\n",
       "      <td>DEL18DT</td>\n",
       "      <td>05/17/2015</td>\n",
       "      <td>0.9</td>\n",
       "      <td>0.9</td>\n",
       "      <td>0.85</td>\n",
       "      <td>0.80</td>\n",
       "      <td>0.85</td>\n",
       "      <td>0.85</td>\n",
       "      <td>0.86</td>\n",
       "      <td>2</td>\n",
       "    </tr>\n",
       "  </tbody>\n",
       "</table>\n",
       "</div>"
      ],
      "text/plain": [
       "      Site        Date  Turbidity(NTU) at 12AM  Turbidity(NTU) at 4AM  \\\n",
       "0  DEL18DT  05/10/2015                     NaN                    1.0   \n",
       "1  DEL18DT  05/11/2015                     1.0                    1.1   \n",
       "2  DEL18DT  05/12/2015                     1.1                    1.1   \n",
       "3  DEL18DT  05/13/2015                     0.9                    1.1   \n",
       "4  DEL18DT  05/14/2015                     1.1                    1.0   \n",
       "5  DEL18DT  05/15/2015                     1.0                    1.0   \n",
       "6  DEL18DT  05/16/2015                     1.1                    1.0   \n",
       "7  DEL18DT  05/17/2015                     0.9                    0.9   \n",
       "\n",
       "   Turbidity(NTU) at 8AM  Turbidity(NTU) at 12PM  Turbidity(NTU) at 4PM  \\\n",
       "0                   0.95                    0.95                   1.00   \n",
       "1                   0.95                    1.00                   1.10   \n",
       "2                   1.10                    0.90                   0.95   \n",
       "3                   0.95                    0.90                   1.00   \n",
       "4                   1.00                    0.95                   0.95   \n",
       "5                   1.00                    0.90                   0.95   \n",
       "6                   1.00                    0.75                   0.85   \n",
       "7                   0.85                    0.80                   0.85   \n",
       "\n",
       "   Turbidity(NTU) at 8PM  Average 24hrTurbidity(NTU) Coliform, Fecal(fc/100mL)  \n",
       "0                   1.00                        0.98                        <1  \n",
       "1                   1.10                        1.04                        <1  \n",
       "2                   1.10                        1.04                         1  \n",
       "3                   0.95                        0.97                         1  \n",
       "4                   0.95                        0.99                        <1  \n",
       "5                   1.00                        0.98                        <1  \n",
       "6                   0.95                        0.94                        <1  \n",
       "7                   0.85                        0.86                         2  "
      ]
     },
     "execution_count": 10,
     "metadata": {},
     "output_type": "execute_result"
    }
   ],
   "source": [
    "#print the fist 8 lines out\n",
    "WQ.head(8)"
   ]
  },
  {
   "cell_type": "code",
   "execution_count": 11,
   "metadata": {},
   "outputs": [
    {
     "data": {
      "text/html": [
       "<div>\n",
       "<table border=\"1\" class=\"dataframe\">\n",
       "  <thead>\n",
       "    <tr style=\"text-align: right;\">\n",
       "      <th></th>\n",
       "      <th>Site</th>\n",
       "      <th>Date</th>\n",
       "      <th>Turbidity(NTU) at 12AM</th>\n",
       "      <th>Turbidity(NTU) at 4AM</th>\n",
       "      <th>Turbidity(NTU) at 8AM</th>\n",
       "      <th>Turbidity(NTU) at 12PM</th>\n",
       "      <th>Turbidity(NTU) at 4PM</th>\n",
       "      <th>Turbidity(NTU) at 8PM</th>\n",
       "      <th>Average 24hrTurbidity(NTU)</th>\n",
       "      <th>Coliform, Fecal(fc/100mL)</th>\n",
       "    </tr>\n",
       "  </thead>\n",
       "  <tbody>\n",
       "    <tr>\n",
       "      <th>1333</th>\n",
       "      <td>DEL18DT</td>\n",
       "      <td>08/29/2018</td>\n",
       "      <td>0.80</td>\n",
       "      <td>0.75</td>\n",
       "      <td>0.75</td>\n",
       "      <td>0.65</td>\n",
       "      <td>0.75</td>\n",
       "      <td>0.80</td>\n",
       "      <td>0.75</td>\n",
       "      <td>&lt;1</td>\n",
       "    </tr>\n",
       "    <tr>\n",
       "      <th>1334</th>\n",
       "      <td>DEL18DT</td>\n",
       "      <td>08/30/2018</td>\n",
       "      <td>0.80</td>\n",
       "      <td>0.80</td>\n",
       "      <td>0.70</td>\n",
       "      <td>0.70</td>\n",
       "      <td>0.75</td>\n",
       "      <td>0.85</td>\n",
       "      <td>0.77</td>\n",
       "      <td>E3</td>\n",
       "    </tr>\n",
       "    <tr>\n",
       "      <th>1335</th>\n",
       "      <td>DEL18DT</td>\n",
       "      <td>08/31/2018</td>\n",
       "      <td>0.75</td>\n",
       "      <td>0.75</td>\n",
       "      <td>0.70</td>\n",
       "      <td>0.65</td>\n",
       "      <td>0.75</td>\n",
       "      <td>0.70</td>\n",
       "      <td>0.72</td>\n",
       "      <td>E1</td>\n",
       "    </tr>\n",
       "  </tbody>\n",
       "</table>\n",
       "</div>"
      ],
      "text/plain": [
       "         Site        Date  Turbidity(NTU) at 12AM  Turbidity(NTU) at 4AM  \\\n",
       "1333  DEL18DT  08/29/2018                    0.80                   0.75   \n",
       "1334  DEL18DT  08/30/2018                    0.80                   0.80   \n",
       "1335  DEL18DT  08/31/2018                    0.75                   0.75   \n",
       "\n",
       "      Turbidity(NTU) at 8AM  Turbidity(NTU) at 12PM  Turbidity(NTU) at 4PM  \\\n",
       "1333                   0.75                    0.65                   0.75   \n",
       "1334                   0.70                    0.70                   0.75   \n",
       "1335                   0.70                    0.65                   0.75   \n",
       "\n",
       "      Turbidity(NTU) at 8PM  Average 24hrTurbidity(NTU)  \\\n",
       "1333                   0.80                        0.75   \n",
       "1334                   0.85                        0.77   \n",
       "1335                   0.70                        0.72   \n",
       "\n",
       "     Coliform, Fecal(fc/100mL)  \n",
       "1333                        <1  \n",
       "1334                        E3  \n",
       "1335                        E1  "
      ]
     },
     "execution_count": 11,
     "metadata": {},
     "output_type": "execute_result"
    }
   ],
   "source": [
    "#print the last 3 lines out\n",
    "WQ.tail(3)"
   ]
  },
  {
   "cell_type": "code",
   "execution_count": 12,
   "metadata": {},
   "outputs": [
    {
     "data": {
      "text/plain": [
       "Index([u'Site', u'Date', u'Turbidity(NTU) at 12AM', u'Turbidity(NTU) at 4AM',\n",
       "       u'Turbidity(NTU) at 8AM', u'Turbidity(NTU) at 12PM',\n",
       "       u'Turbidity(NTU) at 4PM', u'Turbidity(NTU) at 8PM',\n",
       "       u'Average 24hrTurbidity(NTU)', u'Coliform, Fecal(fc/100mL)'],\n",
       "      dtype='object')"
      ]
     },
     "execution_count": 12,
     "metadata": {},
     "output_type": "execute_result"
    }
   ],
   "source": [
    "#look at the columns available, those are the variables\n",
    "WQ.columns"
   ]
  },
  {
   "cell_type": "code",
   "execution_count": 13,
   "metadata": {},
   "outputs": [
    {
     "data": {
      "text/plain": [
       "13360"
      ]
     },
     "execution_count": 13,
     "metadata": {},
     "output_type": "execute_result"
    }
   ],
   "source": [
    "#count how many rows, those are the data points\n",
    "WQ.size"
   ]
  },
  {
   "cell_type": "code",
   "execution_count": 14,
   "metadata": {},
   "outputs": [],
   "source": [
    "#select 2 columns only for plotting\n",
    "WQ_2c = WQ[['Turbidity(NTU) at 4AM', 'Turbidity(NTU) at 12PM']]"
   ]
  },
  {
   "cell_type": "code",
   "execution_count": 15,
   "metadata": {},
   "outputs": [
    {
     "data": {
      "text/html": [
       "<div>\n",
       "<table border=\"1\" class=\"dataframe\">\n",
       "  <thead>\n",
       "    <tr style=\"text-align: right;\">\n",
       "      <th></th>\n",
       "      <th>Turbidity(NTU) at 4AM</th>\n",
       "      <th>Turbidity(NTU) at 12PM</th>\n",
       "    </tr>\n",
       "  </thead>\n",
       "  <tbody>\n",
       "    <tr>\n",
       "      <th>0</th>\n",
       "      <td>1.0</td>\n",
       "      <td>0.95</td>\n",
       "    </tr>\n",
       "    <tr>\n",
       "      <th>1</th>\n",
       "      <td>1.1</td>\n",
       "      <td>1.00</td>\n",
       "    </tr>\n",
       "    <tr>\n",
       "      <th>2</th>\n",
       "      <td>1.1</td>\n",
       "      <td>0.90</td>\n",
       "    </tr>\n",
       "    <tr>\n",
       "      <th>3</th>\n",
       "      <td>1.1</td>\n",
       "      <td>0.90</td>\n",
       "    </tr>\n",
       "    <tr>\n",
       "      <th>4</th>\n",
       "      <td>1.0</td>\n",
       "      <td>0.95</td>\n",
       "    </tr>\n",
       "  </tbody>\n",
       "</table>\n",
       "</div>"
      ],
      "text/plain": [
       "   Turbidity(NTU) at 4AM  Turbidity(NTU) at 12PM\n",
       "0                    1.0                    0.95\n",
       "1                    1.1                    1.00\n",
       "2                    1.1                    0.90\n",
       "3                    1.1                    0.90\n",
       "4                    1.0                    0.95"
      ]
     },
     "execution_count": 15,
     "metadata": {},
     "output_type": "execute_result"
    }
   ],
   "source": [
    "WQ_2c.head()"
   ]
  },
  {
   "cell_type": "code",
   "execution_count": 16,
   "metadata": {},
   "outputs": [],
   "source": [
    "x=WQ_2c['Turbidity(NTU) at 4AM']"
   ]
  },
  {
   "cell_type": "code",
   "execution_count": 17,
   "metadata": {},
   "outputs": [
    {
     "data": {
      "text/plain": [
       "1336"
      ]
     },
     "execution_count": 17,
     "metadata": {},
     "output_type": "execute_result"
    }
   ],
   "source": [
    "y=WQ_2c['Turbidity(NTU) at 12PM']\n",
    "y.size\n",
    "x.size"
   ]
  },
  {
   "cell_type": "markdown",
   "metadata": {},
   "source": [
    "## plot the data"
   ]
  },
  {
   "cell_type": "code",
   "execution_count": 18,
   "metadata": {},
   "outputs": [
    {
     "data": {
      "text/plain": [
       "<matplotlib.axes._subplots.AxesSubplot at 0x7fb399038550>"
      ]
     },
     "execution_count": 18,
     "metadata": {},
     "output_type": "execute_result"
    }
   ],
   "source": [
    "WQ_2c.plot(x=\"Turbidity(NTU) at 4AM\", y=\"Turbidity(NTU) at 12PM\")"
   ]
  },
  {
   "cell_type": "code",
   "execution_count": 19,
   "metadata": {},
   "outputs": [],
   "source": [
    "# wont show anything if i do not use the magic command to show plots in the notebook \n",
    "#(or use pl.show to pop up a window, but for the homework plots have to be embedded)"
   ]
  },
  {
   "cell_type": "code",
   "execution_count": 20,
   "metadata": {},
   "outputs": [
    {
     "name": "stdout",
     "output_type": "stream",
     "text": [
      "Populating the interactive namespace from numpy and matplotlib\n"
     ]
    }
   ],
   "source": [
    "%pylab inline"
   ]
  },
  {
   "cell_type": "code",
   "execution_count": 21,
   "metadata": {},
   "outputs": [],
   "source": [
    "from matplotlib import pyplot as plt\n"
   ]
  },
  {
   "cell_type": "code",
   "execution_count": 22,
   "metadata": {},
   "outputs": [
    {
     "data": {
      "image/png": "[encoded data removed]",
      "text/plain": [
       "<matplotlib.figure.Figure at 0x7fb39682f190>"
      ]
     },
     "metadata": {},
     "output_type": "display_data"
    }
   ],
   "source": [
    "WQ_2c.plot(x=\"Turbidity(NTU) at 4AM\", y=\"Turbidity(NTU) at 12PM\", kind='scatter');\n",
    "# every plot needs a caption that explains to the reader \n",
    "# 1) WHAT what the reader is loooking at and \n",
    "# 2) WHY why the reader is looking at it here in the analysis \n",
    "#      (in this case there is no why cause this plot is not part of an analysis)\n",
    "# 3) TAKE HOME what is the take home point for the plot in the analysis \n",
    "#      (also there is no take home point here cause we are not doind an analysis but you can point out interesting features)"
   ]
  },
  {
   "cell_type": "code",
   "execution_count": 23,
   "metadata": {},
   "outputs": [
    {
     "data": {
      "image/png": "[encoded data removed]",
      "text/plain": [
       "<matplotlib.figure.Figure at 0x7fb3910a2390>"
      ]
     },
     "metadata": {},
     "output_type": "display_data"
    }
   ],
   "source": [
    "z=[]\n",
    "for i in range(1336):\n",
    "    z.append(i)\n",
    "plt.scatter(z,x,color='red')\n",
    "plt.scatter(z,y,color='blue')\n",
    "plt.show()"
   ]
  },
  {
   "cell_type": "markdown",
   "metadata": {},
   "source": [
    "Figure 1: Difference in turbidity at different times on same day. Although there is very high correlation, it also means that there seems to be no difference in water quality supplied in different times of the day. "
   ]
  },
  {
   "cell_type": "markdown",
   "metadata": {},
   "source": [
    "# solution 2: Use API and download a json file"
   ]
  },
  {
   "cell_type": "markdown",
   "metadata": {},
   "source": [
    "from the dataset export link now go to -> SODA API and the the endpoint"
   ]
  },
  {
   "cell_type": "code",
   "execution_count": 24,
   "metadata": {},
   "outputs": [],
   "source": [
    "url = \"https://data.cityofnewyork.us/resource/8c3c-yspd.json\""
   ]
  },
  {
   "cell_type": "code",
   "execution_count": 25,
   "metadata": {},
   "outputs": [],
   "source": [
    "#use the appropriatepandas function to read in the json file\n",
    "qual = pd.read_json(url)"
   ]
  },
  {
   "cell_type": "code",
   "execution_count": 26,
   "metadata": {},
   "outputs": [
    {
     "data": {
      "text/html": [
       "<div>\n",
       "<table border=\"1\" class=\"dataframe\">\n",
       "  <thead>\n",
       "    <tr style=\"text-align: right;\">\n",
       "      <th></th>\n",
       "      <th>average_24hrturbidity_ntu</th>\n",
       "      <th>coliform_fecal_fc_100ml</th>\n",
       "      <th>date</th>\n",
       "      <th>site</th>\n",
       "      <th>turbidity_ntu_at_12am</th>\n",
       "      <th>turbidity_ntu_at_12pm</th>\n",
       "      <th>turbidity_ntu_at_4am</th>\n",
       "      <th>turbidity_ntu_at_4pm</th>\n",
       "      <th>turbidity_ntu_at_8am</th>\n",
       "      <th>turbidity_ntu_at_8pm</th>\n",
       "    </tr>\n",
       "  </thead>\n",
       "  <tbody>\n",
       "    <tr>\n",
       "      <th>0</th>\n",
       "      <td>0.94</td>\n",
       "      <td>&lt;1</td>\n",
       "      <td>2015-05-27</td>\n",
       "      <td>DEL18DT</td>\n",
       "      <td>0.8</td>\n",
       "      <td>1.1</td>\n",
       "      <td>0.95</td>\n",
       "      <td>0.95</td>\n",
       "      <td>0.95</td>\n",
       "      <td>0.90</td>\n",
       "    </tr>\n",
       "    <tr>\n",
       "      <th>1</th>\n",
       "      <td>0.71</td>\n",
       "      <td>&lt;1</td>\n",
       "      <td>2015-08-28</td>\n",
       "      <td>DEL18DT</td>\n",
       "      <td>0.7</td>\n",
       "      <td>0.7</td>\n",
       "      <td>0.65</td>\n",
       "      <td>0.75</td>\n",
       "      <td>0.65</td>\n",
       "      <td>0.80</td>\n",
       "    </tr>\n",
       "    <tr>\n",
       "      <th>2</th>\n",
       "      <td>0.56</td>\n",
       "      <td>&lt;1</td>\n",
       "      <td>2015-08-15</td>\n",
       "      <td>DEL18DT</td>\n",
       "      <td>0.6</td>\n",
       "      <td>0.5</td>\n",
       "      <td>0.55</td>\n",
       "      <td>0.60</td>\n",
       "      <td>0.55</td>\n",
       "      <td>0.55</td>\n",
       "    </tr>\n",
       "  </tbody>\n",
       "</table>\n",
       "</div>"
      ],
      "text/plain": [
       "   average_24hrturbidity_ntu coliform_fecal_fc_100ml       date     site  \\\n",
       "0                       0.94                      <1 2015-05-27  DEL18DT   \n",
       "1                       0.71                      <1 2015-08-28  DEL18DT   \n",
       "2                       0.56                      <1 2015-08-15  DEL18DT   \n",
       "\n",
       "   turbidity_ntu_at_12am  turbidity_ntu_at_12pm  turbidity_ntu_at_4am  \\\n",
       "0                    0.8                    1.1                  0.95   \n",
       "1                    0.7                    0.7                  0.65   \n",
       "2                    0.6                    0.5                  0.55   \n",
       "\n",
       "   turbidity_ntu_at_4pm  turbidity_ntu_at_8am  turbidity_ntu_at_8pm  \n",
       "0                  0.95                  0.95                  0.90  \n",
       "1                  0.75                  0.65                  0.80  \n",
       "2                  0.60                  0.55                  0.55  "
      ]
     },
     "execution_count": 26,
     "metadata": {},
     "output_type": "execute_result"
    }
   ],
   "source": [
    "# print it out\n",
    "qual.head(3)"
   ]
  },
  {
   "cell_type": "code",
   "execution_count": 27,
   "metadata": {},
   "outputs": [],
   "source": [
    "#now select a date and 2 variables\n",
    "wq_3c = qual[['date', 'turbidity_ntu_at_12am', 'turbidity_ntu_at_12pm']]"
   ]
  },
  {
   "cell_type": "markdown",
   "metadata": {},
   "source": [
    "for consistency with the data above, I will change the names of the columns (variables) to be the same as before. This way the plots will come out with the same labels and legends"
   ]
  },
  {
   "cell_type": "code",
   "execution_count": 28,
   "metadata": {},
   "outputs": [
    {
     "name": "stderr",
     "output_type": "stream",
     "text": [
      "/usr/local/Anaconda3-5.0.0-Linux-x86_64/envs/PUI2016_Python2/lib/python2.7/site-packages/pandas/core/frame.py:2754: SettingWithCopyWarning: \n",
      "A value is trying to be set on a copy of a slice from a DataFrame\n",
      "\n",
      "See the caveats in the documentation: http://pandas.pydata.org/pandas-docs/stable/indexing.html#indexing-view-versus-copy\n",
      "  **kwargs)\n"
     ]
    }
   ],
   "source": [
    "wq_3c.rename(columns = {'date':'Date', \n",
    "               'turbidity_ntu_at_12am':'Turbidity(NTU) at 12am', \n",
    "               'turbidity_ntu_at_12pm':'Turbidity(NTU) at 12pm'}, inplace=True)"
   ]
  },
  {
   "cell_type": "code",
   "execution_count": 29,
   "metadata": {},
   "outputs": [
    {
     "data": {
      "image/png": "[encoded data removed]",
      "text/plain": [
       "<matplotlib.figure.Figure at 0x7fb3940c1350>"
      ]
     },
     "metadata": {},
     "output_type": "display_data"
    }
   ],
   "source": [
    "#as a default this plot wont have a y label, but all plots must have axis labels!\n",
    "ax = wq_3c.plot(x='Date', y='Turbidity(NTU) at 12am');\n",
    "ax.set_ylabel(\"Number\");"
   ]
  },
  {
   "cell_type": "markdown",
   "metadata": {},
   "source": [
    "Figure2: Turbidity of water at 12 am on different days within the data. Seasonal peaks can be spotted. \n"
   ]
  },
  {
   "cell_type": "code",
   "execution_count": 30,
   "metadata": {},
   "outputs": [
    {
     "name": "stderr",
     "output_type": "stream",
     "text": [
      "/usr/local/Anaconda3-5.0.0-Linux-x86_64/envs/PUI2016_Python2/lib/python2.7/site-packages/ipykernel/__main__.py:1: SettingWithCopyWarning: \n",
      "A value is trying to be set on a copy of a slice from a DataFrame.\n",
      "Try using .loc[row_indexer,col_indexer] = value instead\n",
      "\n",
      "See the caveats in the documentation: http://pandas.pydata.org/pandas-docs/stable/indexing.html#indexing-view-versus-copy\n",
      "  if __name__ == '__main__':\n"
     ]
    }
   ],
   "source": [
    "wq_3c[\"Date\"] = wq_3c[\"Date\"].apply(lambda x: pd.Timestamp(x))"
   ]
  },
  {
   "cell_type": "markdown",
   "metadata": {},
   "source": [
    "now that I am using timestamps (instead of strings as the data got read in form the json file) Pandas know to rotate the labels appropriately so I can drop rot=90"
   ]
  },
  {
   "cell_type": "code",
   "execution_count": 31,
   "metadata": {},
   "outputs": [
    {
     "data": {
      "image/png": "[encoded data removed]",
      "text/plain": [
       "<matplotlib.figure.Figure at 0x7fb391036e10>"
      ]
     },
     "metadata": {},
     "output_type": "display_data"
    }
   ],
   "source": [
    "ax = wq_3c.plot(x='Date', y='Turbidity(NTU) at 12am')\n",
    "ax.set_ylabel(\"Number\");"
   ]
  },
  {
   "cell_type": "markdown",
   "metadata": {},
   "source": [
    "Figure 3: Turbidity at 12am for different days within data. Seasonal trends can be spotted. "
   ]
  },
  {
   "cell_type": "code",
   "execution_count": 32,
   "metadata": {},
   "outputs": [
    {
     "data": {
      "image/png": "[encoded data removed]",
      "text/plain": [
       "<matplotlib.figure.Figure at 0x7fb36ebeb650>"
      ]
     },
     "metadata": {},
     "output_type": "display_data"
    }
   ],
   "source": [
    "#plot the other columns\n",
    "ax = wq_3c.plot(x='Date', y='Turbidity(NTU) at 12pm')\n",
    "ax.set_ylabel(\"Number\");"
   ]
  },
  {
   "cell_type": "markdown",
   "metadata": {},
   "source": [
    "Figure 3: Turbidity at 12pm for different days within data. Seasonal trends can be spotted. "
   ]
  },
  {
   "cell_type": "code",
   "execution_count": null,
   "metadata": {},
   "outputs": [],
   "source": []
  }
 ],
 "metadata": {
  "kernelspec": {
   "display_name": "PUI2016_Python2",
   "language": "python",
   "name": "pui2016_python2"
  },
  "language_info": {
   "codemirror_mode": {
    "name": "ipython",
    "version": 2
   },
   "file_extension": ".py",
   "mimetype": "text/x-python",
   "name": "python",
   "nbconvert_exporter": "python",
   "pygments_lexer": "ipython2",
   "version": "2.7.12"
  }
 },
 "nbformat": 4,
 "nbformat_minor": 2
}
